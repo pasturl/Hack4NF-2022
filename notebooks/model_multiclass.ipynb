{
 "cells": [
  {
   "cell_type": "code",
   "execution_count": 18,
   "id": "6fdb9b13",
   "metadata": {},
   "outputs": [],
   "source": [
    "import logging\n",
    "import xgboost as xgb\n",
    "from sklearn.model_selection import train_test_split\n",
    "# https://medium.com/the-innovation/multi-label-classification-example-with-multioutputclassifier-and-xgboost-in-python-98c84c7d379f\n",
    "#from xgboost import XGBClassifier\n",
    "from sklearn.model_selection import KFold\n",
    "from sklearn.multioutput import MultiOutputClassifier\n",
    "from sklearn.pipeline import Pipeline\n",
    "\n",
    "from sklearn.metrics import confusion_matrix\n",
    "from sklearn.metrics import roc_auc_score\n",
    "from sklearn.metrics import classification_report\n",
    "\n",
    "from dataset import create_dataset\n",
    "#from ml_model import train_model\n",
    "\n",
    "from utils import read_yaml\n"
   ]
  },
  {
   "cell_type": "code",
   "execution_count": 3,
   "id": "3ea024a4",
   "metadata": {},
   "outputs": [],
   "source": []
  },
  {
   "cell_type": "code",
   "execution_count": 4,
   "id": "8aa9e555",
   "metadata": {},
   "outputs": [
    {
     "name": "stderr",
     "output_type": "stream",
     "text": [
      "INFO:Hack4NF:Reading config files\n"
     ]
    }
   ],
   "source": [
    "\n",
    "logging.basicConfig()\n",
    "logging.root.setLevel(logging.INFO)\n",
    "log = logging.getLogger('Hack4NF')\n",
    "\n",
    "\n",
    "log.info('Reading config files')\n",
    "# Read configuration files\n",
    "config_path = \"config/resources.yaml\"\n",
    "config = read_yaml(config_path)\n",
    "genie = config[\"genie\"]\n",
    "\n",
    "\n",
    "# Read synapses credentials\n",
    "secrets_path = \".secrets/synapses_credentials.yaml\"\n",
    "credentials = read_yaml(secrets_path)"
   ]
  },
  {
   "cell_type": "code",
   "execution_count": 5,
   "id": "6bfeb000",
   "metadata": {},
   "outputs": [
    {
     "name": "stderr",
     "output_type": "stream",
     "text": [
      "INFO:Hack4NF:Creating dataset\n",
      "INFO:dataset:Reading dataset from: data//dataset.csv\n",
      "C:\\Users\\lucas\\Projects\\hack4nf\\Hack4NF\\Hack4NF-2022\\dataset.py:46: DtypeWarning: Columns (4,5,9,10,12) have mixed types. Specify dtype option on import or set low_memory=False.\n",
      "  dataset = pd.read_csv(dataset_file, sep=\";\")\n"
     ]
    }
   ],
   "source": [
    "log.info('Creating dataset')\n",
    "dataset = create_dataset(genie)"
   ]
  },
  {
   "cell_type": "code",
   "execution_count": null,
   "id": "2cfc46f9",
   "metadata": {},
   "outputs": [],
   "source": []
  },
  {
   "cell_type": "code",
   "execution_count": 6,
   "id": "52d02664",
   "metadata": {},
   "outputs": [
    {
     "data": {
      "text/plain": [
       "146565"
      ]
     },
     "execution_count": 6,
     "metadata": {},
     "output_type": "execute_result"
    }
   ],
   "source": [
    "len(dataset)"
   ]
  },
  {
   "cell_type": "code",
   "execution_count": 7,
   "id": "fd544230",
   "metadata": {},
   "outputs": [
    {
     "data": {
      "text/html": [
       "<div>\n",
       "<style scoped>\n",
       "    .dataframe tbody tr th:only-of-type {\n",
       "        vertical-align: middle;\n",
       "    }\n",
       "\n",
       "    .dataframe tbody tr th {\n",
       "        vertical-align: top;\n",
       "    }\n",
       "\n",
       "    .dataframe thead th {\n",
       "        text-align: right;\n",
       "    }\n",
       "</style>\n",
       "<table border=\"1\" class=\"dataframe\">\n",
       "  <thead>\n",
       "    <tr style=\"text-align: right;\">\n",
       "      <th></th>\n",
       "      <th>Unnamed: 0</th>\n",
       "      <th>PATIENT_ID</th>\n",
       "      <th>SEX</th>\n",
       "      <th>PRIMARY_RACE</th>\n",
       "      <th>SECONDARY_RACE</th>\n",
       "      <th>TERTIARY_RACE</th>\n",
       "      <th>ETHNICITY</th>\n",
       "      <th>BIRTH_YEAR</th>\n",
       "      <th>CENTER</th>\n",
       "      <th>INT_CONTACT</th>\n",
       "      <th>...</th>\n",
       "      <th>ZNRF3_DNP</th>\n",
       "      <th>ZNRF3_INS</th>\n",
       "      <th>ZNRF3_ONP</th>\n",
       "      <th>ZNRF3_SNP</th>\n",
       "      <th>ZRSR2_DEL</th>\n",
       "      <th>ZRSR2_DNP</th>\n",
       "      <th>ZRSR2_INS</th>\n",
       "      <th>ZRSR2_SNP</th>\n",
       "      <th>ZSWIM4_DEL</th>\n",
       "      <th>ZSWIM4_SNP</th>\n",
       "    </tr>\n",
       "  </thead>\n",
       "  <tbody>\n",
       "    <tr>\n",
       "      <th>0</th>\n",
       "      <td>0</td>\n",
       "      <td>GENIE-VICC-101416</td>\n",
       "      <td>Female</td>\n",
       "      <td>White</td>\n",
       "      <td>Not collected</td>\n",
       "      <td>Not collected</td>\n",
       "      <td>Non-Spanish/non-Hispanic</td>\n",
       "      <td>1961.0</td>\n",
       "      <td>VICC</td>\n",
       "      <td>19225</td>\n",
       "      <td>...</td>\n",
       "      <td>0.0</td>\n",
       "      <td>0.0</td>\n",
       "      <td>0.0</td>\n",
       "      <td>0.0</td>\n",
       "      <td>0.0</td>\n",
       "      <td>0.0</td>\n",
       "      <td>0.0</td>\n",
       "      <td>0.0</td>\n",
       "      <td>0.0</td>\n",
       "      <td>0.0</td>\n",
       "    </tr>\n",
       "    <tr>\n",
       "      <th>1</th>\n",
       "      <td>1</td>\n",
       "      <td>GENIE-VICC-102225</td>\n",
       "      <td>Female</td>\n",
       "      <td>White</td>\n",
       "      <td>Not collected</td>\n",
       "      <td>Not collected</td>\n",
       "      <td>Non-Spanish/non-Hispanic</td>\n",
       "      <td>1982.0</td>\n",
       "      <td>VICC</td>\n",
       "      <td>12057</td>\n",
       "      <td>...</td>\n",
       "      <td>0.0</td>\n",
       "      <td>0.0</td>\n",
       "      <td>0.0</td>\n",
       "      <td>0.0</td>\n",
       "      <td>0.0</td>\n",
       "      <td>0.0</td>\n",
       "      <td>0.0</td>\n",
       "      <td>0.0</td>\n",
       "      <td>0.0</td>\n",
       "      <td>0.0</td>\n",
       "    </tr>\n",
       "    <tr>\n",
       "      <th>2</th>\n",
       "      <td>2</td>\n",
       "      <td>GENIE-VICC-102424</td>\n",
       "      <td>Female</td>\n",
       "      <td>White</td>\n",
       "      <td>Not collected</td>\n",
       "      <td>Not collected</td>\n",
       "      <td>Non-Spanish/non-Hispanic</td>\n",
       "      <td>1952.0</td>\n",
       "      <td>VICC</td>\n",
       "      <td>23505</td>\n",
       "      <td>...</td>\n",
       "      <td>0.0</td>\n",
       "      <td>0.0</td>\n",
       "      <td>0.0</td>\n",
       "      <td>0.0</td>\n",
       "      <td>0.0</td>\n",
       "      <td>0.0</td>\n",
       "      <td>0.0</td>\n",
       "      <td>0.0</td>\n",
       "      <td>0.0</td>\n",
       "      <td>0.0</td>\n",
       "    </tr>\n",
       "    <tr>\n",
       "      <th>3</th>\n",
       "      <td>3</td>\n",
       "      <td>GENIE-VICC-102966</td>\n",
       "      <td>Male</td>\n",
       "      <td>White</td>\n",
       "      <td>Not collected</td>\n",
       "      <td>Not collected</td>\n",
       "      <td>Non-Spanish/non-Hispanic</td>\n",
       "      <td>1951.0</td>\n",
       "      <td>VICC</td>\n",
       "      <td>23426</td>\n",
       "      <td>...</td>\n",
       "      <td>0.0</td>\n",
       "      <td>0.0</td>\n",
       "      <td>0.0</td>\n",
       "      <td>0.0</td>\n",
       "      <td>0.0</td>\n",
       "      <td>0.0</td>\n",
       "      <td>0.0</td>\n",
       "      <td>0.0</td>\n",
       "      <td>0.0</td>\n",
       "      <td>0.0</td>\n",
       "    </tr>\n",
       "    <tr>\n",
       "      <th>4</th>\n",
       "      <td>4</td>\n",
       "      <td>GENIE-VICC-103244</td>\n",
       "      <td>Female</td>\n",
       "      <td>Unknown</td>\n",
       "      <td>Not collected</td>\n",
       "      <td>Not collected</td>\n",
       "      <td>Unknown</td>\n",
       "      <td>1964.0</td>\n",
       "      <td>VICC</td>\n",
       "      <td>18267</td>\n",
       "      <td>...</td>\n",
       "      <td>0.0</td>\n",
       "      <td>0.0</td>\n",
       "      <td>0.0</td>\n",
       "      <td>0.0</td>\n",
       "      <td>0.0</td>\n",
       "      <td>0.0</td>\n",
       "      <td>0.0</td>\n",
       "      <td>0.0</td>\n",
       "      <td>0.0</td>\n",
       "      <td>0.0</td>\n",
       "    </tr>\n",
       "  </tbody>\n",
       "</table>\n",
       "<p>5 rows × 5455 columns</p>\n",
       "</div>"
      ],
      "text/plain": [
       "   Unnamed: 0         PATIENT_ID     SEX PRIMARY_RACE SECONDARY_RACE  \\\n",
       "0           0  GENIE-VICC-101416  Female        White  Not collected   \n",
       "1           1  GENIE-VICC-102225  Female        White  Not collected   \n",
       "2           2  GENIE-VICC-102424  Female        White  Not collected   \n",
       "3           3  GENIE-VICC-102966    Male        White  Not collected   \n",
       "4           4  GENIE-VICC-103244  Female      Unknown  Not collected   \n",
       "\n",
       "   TERTIARY_RACE                 ETHNICITY  BIRTH_YEAR CENTER INT_CONTACT  \\\n",
       "0  Not collected  Non-Spanish/non-Hispanic      1961.0   VICC       19225   \n",
       "1  Not collected  Non-Spanish/non-Hispanic      1982.0   VICC       12057   \n",
       "2  Not collected  Non-Spanish/non-Hispanic      1952.0   VICC       23505   \n",
       "3  Not collected  Non-Spanish/non-Hispanic      1951.0   VICC       23426   \n",
       "4  Not collected                   Unknown      1964.0   VICC       18267   \n",
       "\n",
       "   ... ZNRF3_DNP  ZNRF3_INS ZNRF3_ONP  ZNRF3_SNP  ZRSR2_DEL  ZRSR2_DNP  \\\n",
       "0  ...       0.0        0.0       0.0        0.0        0.0        0.0   \n",
       "1  ...       0.0        0.0       0.0        0.0        0.0        0.0   \n",
       "2  ...       0.0        0.0       0.0        0.0        0.0        0.0   \n",
       "3  ...       0.0        0.0       0.0        0.0        0.0        0.0   \n",
       "4  ...       0.0        0.0       0.0        0.0        0.0        0.0   \n",
       "\n",
       "   ZRSR2_INS  ZRSR2_SNP  ZSWIM4_DEL  ZSWIM4_SNP  \n",
       "0        0.0        0.0         0.0         0.0  \n",
       "1        0.0        0.0         0.0         0.0  \n",
       "2        0.0        0.0         0.0         0.0  \n",
       "3        0.0        0.0         0.0         0.0  \n",
       "4        0.0        0.0         0.0         0.0  \n",
       "\n",
       "[5 rows x 5455 columns]"
      ]
     },
     "execution_count": 7,
     "metadata": {},
     "output_type": "execute_result"
    }
   ],
   "source": [
    "dataset.head()"
   ]
  },
  {
   "cell_type": "code",
   "execution_count": null,
   "id": "59f65bf7",
   "metadata": {},
   "outputs": [],
   "source": []
  },
  {
   "cell_type": "code",
   "execution_count": 8,
   "id": "f81d7779",
   "metadata": {},
   "outputs": [
    {
     "data": {
      "text/plain": [
       "NF1_DEL    15272\n",
       "NF1_DNP    15272\n",
       "NF1_INS    15272\n",
       "NF1_ONP    15272\n",
       "NF1_SNP    15272\n",
       "NF2_DEL    15272\n",
       "NF2_DNP    15272\n",
       "NF2_INS    15272\n",
       "NF2_ONP    15272\n",
       "NF2_SNP    15272\n",
       "dtype: int64"
      ]
     },
     "execution_count": 8,
     "metadata": {},
     "output_type": "execute_result"
    }
   ],
   "source": [
    "dataset[genie[\"targets\"]].isna().sum()"
   ]
  },
  {
   "cell_type": "code",
   "execution_count": 9,
   "id": "820674e4",
   "metadata": {},
   "outputs": [
    {
     "data": {
      "text/html": [
       "<div>\n",
       "<style scoped>\n",
       "    .dataframe tbody tr th:only-of-type {\n",
       "        vertical-align: middle;\n",
       "    }\n",
       "\n",
       "    .dataframe tbody tr th {\n",
       "        vertical-align: top;\n",
       "    }\n",
       "\n",
       "    .dataframe thead th {\n",
       "        text-align: right;\n",
       "    }\n",
       "</style>\n",
       "<table border=\"1\" class=\"dataframe\">\n",
       "  <thead>\n",
       "    <tr style=\"text-align: right;\">\n",
       "      <th></th>\n",
       "      <th>Unnamed: 0</th>\n",
       "      <th>PATIENT_ID</th>\n",
       "      <th>SEX</th>\n",
       "      <th>PRIMARY_RACE</th>\n",
       "      <th>SECONDARY_RACE</th>\n",
       "      <th>TERTIARY_RACE</th>\n",
       "      <th>ETHNICITY</th>\n",
       "      <th>BIRTH_YEAR</th>\n",
       "      <th>CENTER</th>\n",
       "      <th>INT_CONTACT</th>\n",
       "      <th>...</th>\n",
       "      <th>ZNRF3_DNP</th>\n",
       "      <th>ZNRF3_INS</th>\n",
       "      <th>ZNRF3_ONP</th>\n",
       "      <th>ZNRF3_SNP</th>\n",
       "      <th>ZRSR2_DEL</th>\n",
       "      <th>ZRSR2_DNP</th>\n",
       "      <th>ZRSR2_INS</th>\n",
       "      <th>ZRSR2_SNP</th>\n",
       "      <th>ZSWIM4_DEL</th>\n",
       "      <th>ZSWIM4_SNP</th>\n",
       "    </tr>\n",
       "  </thead>\n",
       "  <tbody>\n",
       "    <tr>\n",
       "      <th>0</th>\n",
       "      <td>NaN</td>\n",
       "      <td>NaN</td>\n",
       "      <td>NaN</td>\n",
       "      <td>NaN</td>\n",
       "      <td>NaN</td>\n",
       "      <td>NaN</td>\n",
       "      <td>NaN</td>\n",
       "      <td>NaN</td>\n",
       "      <td>NaN</td>\n",
       "      <td>NaN</td>\n",
       "      <td>...</td>\n",
       "      <td>NaN</td>\n",
       "      <td>NaN</td>\n",
       "      <td>NaN</td>\n",
       "      <td>NaN</td>\n",
       "      <td>NaN</td>\n",
       "      <td>NaN</td>\n",
       "      <td>NaN</td>\n",
       "      <td>NaN</td>\n",
       "      <td>NaN</td>\n",
       "      <td>NaN</td>\n",
       "    </tr>\n",
       "    <tr>\n",
       "      <th>1</th>\n",
       "      <td>NaN</td>\n",
       "      <td>NaN</td>\n",
       "      <td>NaN</td>\n",
       "      <td>NaN</td>\n",
       "      <td>NaN</td>\n",
       "      <td>NaN</td>\n",
       "      <td>NaN</td>\n",
       "      <td>NaN</td>\n",
       "      <td>NaN</td>\n",
       "      <td>NaN</td>\n",
       "      <td>...</td>\n",
       "      <td>NaN</td>\n",
       "      <td>NaN</td>\n",
       "      <td>NaN</td>\n",
       "      <td>NaN</td>\n",
       "      <td>NaN</td>\n",
       "      <td>NaN</td>\n",
       "      <td>NaN</td>\n",
       "      <td>NaN</td>\n",
       "      <td>NaN</td>\n",
       "      <td>NaN</td>\n",
       "    </tr>\n",
       "    <tr>\n",
       "      <th>2</th>\n",
       "      <td>NaN</td>\n",
       "      <td>NaN</td>\n",
       "      <td>NaN</td>\n",
       "      <td>NaN</td>\n",
       "      <td>NaN</td>\n",
       "      <td>NaN</td>\n",
       "      <td>NaN</td>\n",
       "      <td>NaN</td>\n",
       "      <td>NaN</td>\n",
       "      <td>NaN</td>\n",
       "      <td>...</td>\n",
       "      <td>NaN</td>\n",
       "      <td>NaN</td>\n",
       "      <td>NaN</td>\n",
       "      <td>NaN</td>\n",
       "      <td>NaN</td>\n",
       "      <td>NaN</td>\n",
       "      <td>NaN</td>\n",
       "      <td>NaN</td>\n",
       "      <td>NaN</td>\n",
       "      <td>NaN</td>\n",
       "    </tr>\n",
       "    <tr>\n",
       "      <th>3</th>\n",
       "      <td>NaN</td>\n",
       "      <td>NaN</td>\n",
       "      <td>NaN</td>\n",
       "      <td>NaN</td>\n",
       "      <td>NaN</td>\n",
       "      <td>NaN</td>\n",
       "      <td>NaN</td>\n",
       "      <td>NaN</td>\n",
       "      <td>NaN</td>\n",
       "      <td>NaN</td>\n",
       "      <td>...</td>\n",
       "      <td>NaN</td>\n",
       "      <td>NaN</td>\n",
       "      <td>NaN</td>\n",
       "      <td>NaN</td>\n",
       "      <td>NaN</td>\n",
       "      <td>NaN</td>\n",
       "      <td>NaN</td>\n",
       "      <td>NaN</td>\n",
       "      <td>NaN</td>\n",
       "      <td>NaN</td>\n",
       "    </tr>\n",
       "    <tr>\n",
       "      <th>4</th>\n",
       "      <td>NaN</td>\n",
       "      <td>NaN</td>\n",
       "      <td>NaN</td>\n",
       "      <td>NaN</td>\n",
       "      <td>NaN</td>\n",
       "      <td>NaN</td>\n",
       "      <td>NaN</td>\n",
       "      <td>NaN</td>\n",
       "      <td>NaN</td>\n",
       "      <td>NaN</td>\n",
       "      <td>...</td>\n",
       "      <td>NaN</td>\n",
       "      <td>NaN</td>\n",
       "      <td>NaN</td>\n",
       "      <td>NaN</td>\n",
       "      <td>NaN</td>\n",
       "      <td>NaN</td>\n",
       "      <td>NaN</td>\n",
       "      <td>NaN</td>\n",
       "      <td>NaN</td>\n",
       "      <td>NaN</td>\n",
       "    </tr>\n",
       "  </tbody>\n",
       "</table>\n",
       "<p>5 rows × 5455 columns</p>\n",
       "</div>"
      ],
      "text/plain": [
       "   Unnamed: 0 PATIENT_ID  SEX PRIMARY_RACE SECONDARY_RACE TERTIARY_RACE  \\\n",
       "0         NaN        NaN  NaN          NaN            NaN           NaN   \n",
       "1         NaN        NaN  NaN          NaN            NaN           NaN   \n",
       "2         NaN        NaN  NaN          NaN            NaN           NaN   \n",
       "3         NaN        NaN  NaN          NaN            NaN           NaN   \n",
       "4         NaN        NaN  NaN          NaN            NaN           NaN   \n",
       "\n",
       "  ETHNICITY  BIRTH_YEAR CENTER INT_CONTACT  ... ZNRF3_DNP  ZNRF3_INS  \\\n",
       "0       NaN         NaN    NaN         NaN  ...       NaN        NaN   \n",
       "1       NaN         NaN    NaN         NaN  ...       NaN        NaN   \n",
       "2       NaN         NaN    NaN         NaN  ...       NaN        NaN   \n",
       "3       NaN         NaN    NaN         NaN  ...       NaN        NaN   \n",
       "4       NaN         NaN    NaN         NaN  ...       NaN        NaN   \n",
       "\n",
       "  ZNRF3_ONP  ZNRF3_SNP  ZRSR2_DEL  ZRSR2_DNP  ZRSR2_INS  ZRSR2_SNP  \\\n",
       "0       NaN        NaN        NaN        NaN        NaN        NaN   \n",
       "1       NaN        NaN        NaN        NaN        NaN        NaN   \n",
       "2       NaN        NaN        NaN        NaN        NaN        NaN   \n",
       "3       NaN        NaN        NaN        NaN        NaN        NaN   \n",
       "4       NaN        NaN        NaN        NaN        NaN        NaN   \n",
       "\n",
       "   ZSWIM4_DEL  ZSWIM4_SNP  \n",
       "0         NaN         NaN  \n",
       "1         NaN         NaN  \n",
       "2         NaN         NaN  \n",
       "3         NaN         NaN  \n",
       "4         NaN         NaN  \n",
       "\n",
       "[5 rows x 5455 columns]"
      ]
     },
     "execution_count": 9,
     "metadata": {},
     "output_type": "execute_result"
    }
   ],
   "source": [
    "dataset[dataset[genie[\"targets\"]].isna()].head()"
   ]
  },
  {
   "cell_type": "code",
   "execution_count": 10,
   "id": "20e3df2e",
   "metadata": {},
   "outputs": [],
   "source": [
    "ds = dataset.dropna(subset=genie[\"targets\"])"
   ]
  },
  {
   "cell_type": "code",
   "execution_count": 11,
   "id": "c0b6cf3d",
   "metadata": {},
   "outputs": [
    {
     "data": {
      "text/plain": [
       "131293"
      ]
     },
     "execution_count": 11,
     "metadata": {},
     "output_type": "execute_result"
    }
   ],
   "source": [
    "len(ds)"
   ]
  },
  {
   "cell_type": "code",
   "execution_count": null,
   "id": "02e9e59d",
   "metadata": {},
   "outputs": [],
   "source": []
  },
  {
   "cell_type": "code",
   "execution_count": 12,
   "id": "67473669",
   "metadata": {},
   "outputs": [],
   "source": [
    "with open('data/genie_mutations_features.txt') as f:\n",
    "    mutation_cols = f.read().splitlines()\n",
    "features = set(mutation_cols) - set(genie[\"targets\"])\n",
    "features = list(features)"
   ]
  },
  {
   "cell_type": "code",
   "execution_count": 13,
   "id": "9efc7380",
   "metadata": {},
   "outputs": [
    {
     "data": {
      "text/plain": [
       "5438"
      ]
     },
     "execution_count": 13,
     "metadata": {},
     "output_type": "execute_result"
    }
   ],
   "source": [
    "len(mutation_cols)"
   ]
  },
  {
   "cell_type": "code",
   "execution_count": 14,
   "id": "82cce945",
   "metadata": {},
   "outputs": [
    {
     "data": {
      "text/plain": [
       "5428"
      ]
     },
     "execution_count": 14,
     "metadata": {},
     "output_type": "execute_result"
    }
   ],
   "source": [
    "len(features)"
   ]
  },
  {
   "cell_type": "code",
   "execution_count": 15,
   "id": "910a9447",
   "metadata": {},
   "outputs": [],
   "source": [
    "X_train, X_test, y_train, y_test = train_test_split(ds[features].astype(int).values, ds[genie[\"targets\"]].astype(int).values,\n",
    "                                                    test_size=0.20, random_state=42)\n"
   ]
  },
  {
   "cell_type": "code",
   "execution_count": null,
   "id": "5ba096bb",
   "metadata": {},
   "outputs": [],
   "source": []
  },
  {
   "cell_type": "code",
   "execution_count": 20,
   "id": "0dfe0e06",
   "metadata": {},
   "outputs": [
    {
     "name": "stdout",
     "output_type": "stream",
     "text": [
      "Help on package xgboost:\n",
      "\n",
      "NAME\n",
      "    xgboost\n",
      "\n",
      "PACKAGE CONTENTS\n",
      "    _typing\n",
      "\n",
      "FILE\n",
      "    (built-in)\n",
      "\n",
      "\n"
     ]
    }
   ],
   "source": [
    "help(xgb)"
   ]
  },
  {
   "cell_type": "code",
   "execution_count": 19,
   "id": "80b15f98",
   "metadata": {},
   "outputs": [
    {
     "ename": "AttributeError",
     "evalue": "module 'xgboost' has no attribute 'XGBClassifier'",
     "output_type": "error",
     "traceback": [
      "\u001b[1;31m---------------------------------------------------------------------------\u001b[0m",
      "\u001b[1;31mAttributeError\u001b[0m                            Traceback (most recent call last)",
      "Cell \u001b[1;32mIn [19], line 1\u001b[0m\n\u001b[1;32m----> 1\u001b[0m classifier \u001b[38;5;241m=\u001b[39m MultiOutputClassifier(\u001b[43mxgb\u001b[49m\u001b[38;5;241;43m.\u001b[39;49m\u001b[43mXGBClassifier\u001b[49m(learning_rate\u001b[38;5;241m=\u001b[39m\u001b[38;5;241m0.05\u001b[39m, \n\u001b[0;32m      2\u001b[0m                                                  n_estimators\u001b[38;5;241m=\u001b[39m\u001b[38;5;241m5000\u001b[39m, \n\u001b[0;32m      3\u001b[0m                                                  subsample\u001b[38;5;241m=\u001b[39m\u001b[38;5;241m0.7\u001b[39m))\n\u001b[0;32m      5\u001b[0m clf \u001b[38;5;241m=\u001b[39m Pipeline([(\u001b[38;5;124m'\u001b[39m\u001b[38;5;124mclassify\u001b[39m\u001b[38;5;124m'\u001b[39m, classifier)])\n\u001b[0;32m      7\u001b[0m \u001b[38;5;28mprint\u001b[39m (clf)\n",
      "\u001b[1;31mAttributeError\u001b[0m: module 'xgboost' has no attribute 'XGBClassifier'"
     ]
    }
   ],
   "source": [
    "classifier = MultiOutputClassifier(xgb.XGBClassifier(learning_rate=0.05, \n",
    "                                                 n_estimators=5000, \n",
    "                                                 subsample=0.7))\n",
    "\n",
    "clf = Pipeline([('classify', classifier)])\n",
    "\n",
    "print (clf)\n",
    "\n"
   ]
  },
  {
   "cell_type": "code",
   "execution_count": null,
   "id": "c42ed45d",
   "metadata": {},
   "outputs": [],
   "source": [
    "clf.fit(X_train, y_train)\n",
    "print(clf.score(X_test, y_test))"
   ]
  },
  {
   "cell_type": "code",
   "execution_count": null,
   "id": "46cf18da",
   "metadata": {},
   "outputs": [],
   "source": []
  },
  {
   "cell_type": "code",
   "execution_count": null,
   "id": "e65922e5",
   "metadata": {},
   "outputs": [],
   "source": []
  },
  {
   "cell_type": "code",
   "execution_count": null,
   "id": "38aabeb5",
   "metadata": {},
   "outputs": [],
   "source": [
    "param = {'max_depth': 2, 'eta': 1, 'objective': 'binary:logistic'}\n",
    "param['nthread'] = 4\n",
    "param['eval_metric'] = 'auc'\n",
    "num_round = 100"
   ]
  },
  {
   "cell_type": "code",
   "execution_count": null,
   "id": "5327113f",
   "metadata": {},
   "outputs": [],
   "source": [
    "clf = xgb.XGBClassifier(tree_method=\"hist\")\n"
   ]
  },
  {
   "cell_type": "code",
   "execution_count": null,
   "id": "b658e7da",
   "metadata": {},
   "outputs": [],
   "source": [
    "y_test.shape"
   ]
  },
  {
   "cell_type": "code",
   "execution_count": null,
   "id": "a8402dd3",
   "metadata": {},
   "outputs": [],
   "source": [
    "y.shape"
   ]
  },
  {
   "cell_type": "code",
   "execution_count": null,
   "id": "40a54e9f",
   "metadata": {},
   "outputs": [],
   "source": [
    "# from sklearn.ensemble import RandomForestClassifier\n",
    "\n",
    "\n",
    "# clf = RandomForestClassifier(max_depth=16, random_state=0)\n",
    "# clf.fit(X_train, y_train)\n",
    "# predictions = clf.predict(X_test)\n",
    "# predictions.sum(axis=0)"
   ]
  },
  {
   "cell_type": "code",
   "execution_count": null,
   "id": "6313a260",
   "metadata": {},
   "outputs": [],
   "source": []
  },
  {
   "cell_type": "code",
   "execution_count": null,
   "id": "7501e57e",
   "metadata": {},
   "outputs": [],
   "source": [
    "a"
   ]
  },
  {
   "cell_type": "code",
   "execution_count": null,
   "id": "331224e1",
   "metadata": {},
   "outputs": [],
   "source": [
    "classifier = MultiOutputClassifier(XGBClassifier(learning_rate=0.05, \n",
    "                                                 n_estimators=5000, \n",
    "                                                 subsample=0.7))\n",
    "\n",
    "clf = Pipeline([('classify', classifier)])\n",
    "\n",
    "print (clf)\n",
    "\n"
   ]
  },
  {
   "cell_type": "code",
   "execution_count": null,
   "id": "80d6e796",
   "metadata": {},
   "outputs": [],
   "source": [
    "clf.fit(X_train, y_train)\n",
    "print(clf.score(X_test, y_test))"
   ]
  },
  {
   "cell_type": "code",
   "execution_count": null,
   "id": "6b035310",
   "metadata": {},
   "outputs": [],
   "source": [
    "yhat = clf.predict(X_test)"
   ]
  },
  {
   "cell_type": "code",
   "execution_count": null,
   "id": "e0d55e8f",
   "metadata": {},
   "outputs": [],
   "source": [
    "auc_y1 = roc_auc_score(y_test[:,0],yhat[:,0])\n",
    "auc_y2 = roc_auc_score(y_test[:,1],yhat[:,1])\n",
    "auc_y3 = roc_auc_score(y_test[:,2],yhat[:,2])\n",
    "auc_y4 = roc_auc_score(y_test[:,3],yhat[:,3])\n",
    "auc_y5 = roc_auc_score(y_test[:,4],yhat[:,4])\n",
    "\n",
    "print(\"ROC AUC y1: %.4f, y2: %.4f, y3: %.4f, y4: %.4f, y5: %.4f\" % (auc_y1, auc_y2, auc_y3, auc_y4, auc_y5))\n"
   ]
  },
  {
   "cell_type": "code",
   "execution_count": null,
   "id": "84aefd0f",
   "metadata": {},
   "outputs": [],
   "source": [
    "cm_y1 = confusion_matrix(y_test[:,0],yhat[:,0])\n",
    "cm_y2 = confusion_matrix(y_test[:,1],yhat[:,1])\n",
    "cm_y3 = confusion_matrix(y_test[:,2],yhat[:,2])\n",
    "cm_y4 = confusion_matrix(y_test[:,3],yhat[:,3])\n",
    "cm_y5 = confusion_matrix(y_test[:,4],yhat[:,4])\n",
    "\n",
    "print (cm_y1)\n"
   ]
  },
  {
   "cell_type": "code",
   "execution_count": null,
   "id": "aee922d9",
   "metadata": {},
   "outputs": [],
   "source": [
    "cr_y1 = classification_report(y_test[:,0],yhat[:,0])\n",
    "cr_y2 = classification_report(y_test[:,1],yhat[:,1])\n",
    "cr_y3 = classification_report(y_test[:,2],yhat[:,2])\n",
    "cr_y4 = classification_report(y_test[:,3],yhat[:,3])\n",
    "cr_y5 = classification_report(y_test[:,4],yhat[:,4])\n",
    "\n",
    "print (cr_y1)"
   ]
  },
  {
   "cell_type": "code",
   "execution_count": null,
   "id": "bfaccd68",
   "metadata": {},
   "outputs": [],
   "source": []
  },
  {
   "cell_type": "code",
   "execution_count": null,
   "id": "0d401f06",
   "metadata": {},
   "outputs": [],
   "source": [
    "# clf.fit(X_train, y_train,\n",
    "#         eval_set=[(X_train, y_train), (X_test, y_test)],\n",
    "#         eval_metric='mlogloss',\n",
    "#         verbose=True)"
   ]
  },
  {
   "cell_type": "code",
   "execution_count": null,
   "id": "1618d977",
   "metadata": {},
   "outputs": [],
   "source": [
    "from sklearn.datasets import make_multilabel_classification\n",
    "import numpy as np\n",
    "\n",
    "X, y = make_multilabel_classification(\n",
    "    n_samples=32, n_classes=5, n_labels=3, random_state=0\n",
    ")\n",
    "clf = xgb.XGBClassifier(tree_method=\"hist\")\n",
    "clf.fit(X, y)\n",
    "np.testing.assert_allclose(clf.predict(X), y)"
   ]
  },
  {
   "cell_type": "code",
   "execution_count": null,
   "id": "43c6974b",
   "metadata": {},
   "outputs": [],
   "source": [
    "y"
   ]
  },
  {
   "cell_type": "code",
   "execution_count": null,
   "id": "42427a37",
   "metadata": {},
   "outputs": [],
   "source": []
  },
  {
   "cell_type": "code",
   "execution_count": null,
   "id": "41b39508",
   "metadata": {},
   "outputs": [],
   "source": [
    "# model_path = f\"model_{target}\"\n",
    "# create_folder(model_path)\n",
    "ds = ds.fillna(0)\n",
    "\n",
    "\n",
    "X_train, X_test, y_train, y_test = train_test_split(ds[features], ds[target],\n",
    "                                                    test_size=0.20, random_state=42)\n",
    "\n",
    "train_data = lgb.Dataset(X_train, label=y_train)\n",
    "test_data = lgb.Dataset(X_test, label=y_test)\n",
    "\n",
    "params_k = {\n",
    "    'boosting_type': 'gbdt',\n",
    "    'objective': 'binary',\n",
    "    'metric': 'binary_logloss',\n",
    "    'subsample': 0.8,\n",
    "    'subsample_freq': 1,\n",
    "    'learning_rate': 0.05,\n",
    "    'feature_fraction': 0.8,\n",
    "    'max_bin': 300,\n",
    "    'n_estimators': 2000,\n",
    "    'boost_from_average': False,\n",
    "    \"random_seed\": 42}\n",
    "\n",
    "model_gbm = lgb.train(params_k, train_data, valid_sets=[test_data],\n",
    "                      num_boost_round=5000, early_stopping_rounds=25,\n",
    "                      verbose_eval=50)\n",
    "joblib.dump(model_gbm, f'{model_path}/model_lgb.pkl')\n",
    "\n",
    "# evaluate_model(model_gbm, X_test, y_test, model_path)\n",
    "\n",
    "# model_interpretability(model_gbm, X_test, model_path)"
   ]
  },
  {
   "cell_type": "code",
   "execution_count": null,
   "id": "07814ece",
   "metadata": {},
   "outputs": [],
   "source": []
  }
 ],
 "metadata": {
  "kernelspec": {
   "display_name": "Python 3 (ipykernel)",
   "language": "python",
   "name": "python3"
  },
  "language_info": {
   "codemirror_mode": {
    "name": "ipython",
    "version": 3
   },
   "file_extension": ".py",
   "mimetype": "text/x-python",
   "name": "python",
   "nbconvert_exporter": "python",
   "pygments_lexer": "ipython3",
   "version": "3.9.0"
  }
 },
 "nbformat": 4,
 "nbformat_minor": 5
}
