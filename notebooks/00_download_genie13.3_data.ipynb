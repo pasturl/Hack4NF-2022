{
 "cells": [
  {
   "cell_type": "code",
   "execution_count": 1,
   "id": "2bade600",
   "metadata": {},
   "outputs": [],
   "source": [
    "import synapseclient\n",
    "import synapseutils\n",
    "from pathlib import Path\n",
    "import yaml"
   ]
  },
  {
   "cell_type": "code",
   "execution_count": 2,
   "id": "c7168bd1",
   "metadata": {},
   "outputs": [],
   "source": [
    "# Define data paths\n",
    "data_path = \"data/genie_v13.3\"\n",
    "case_list_path = f\"{data_path}/case_list\"\n",
    "gene_panels_path = f\"{data_path}/gene_panels\"\n",
    "\n",
    "# Credentials paths\n",
    "credentials_path = \".secrets/synapses_credentials.yaml\""
   ]
  },
  {
   "cell_type": "code",
   "execution_count": 3,
   "id": "8a411ae0",
   "metadata": {},
   "outputs": [],
   "source": [
    "def create_folder(path):\n",
    "    Path(path).mkdir(parents=True, exist_ok=True)"
   ]
  },
  {
   "cell_type": "code",
   "execution_count": 4,
   "id": "09c10a87",
   "metadata": {},
   "outputs": [],
   "source": [
    "# Create folders to download data\n",
    "create_folder(data_path)\n",
    "create_folder(case_list_path)\n",
    "create_folder(gene_panels_path)\n"
   ]
  },
  {
   "cell_type": "code",
   "execution_count": 5,
   "id": "5c0bcfd7",
   "metadata": {},
   "outputs": [],
   "source": [
    "with open(credentials_path, \"r\") as stream:\n",
    "    try:\n",
    "        credentials = yaml.safe_load(stream)\n",
    "    except yaml.YAMLError as exc:\n",
    "        print(exc)"
   ]
  },
  {
   "cell_type": "code",
   "execution_count": 6,
   "id": "3267d01c",
   "metadata": {},
   "outputs": [
    {
     "name": "stdout",
     "output_type": "stream",
     "text": [
      "Welcome, lucas.pastur@gmail.com!\n",
      "\n"
     ]
    }
   ],
   "source": [
    "syn = synapseclient.Synapse()\n",
    "## log in using username and password\n",
    "syn.login(email=credentials[\"username\"], password=credentials[\"password\"])"
   ]
  },
  {
   "cell_type": "code",
   "execution_count": 7,
   "id": "5ba2d76d",
   "metadata": {},
   "outputs": [],
   "source": [
    "files = synapseutils.syncFromSynapse(syn, 'syn36709873')"
   ]
  },
  {
   "cell_type": "code",
   "execution_count": 8,
   "id": "8cee2997",
   "metadata": {},
   "outputs": [],
   "source": [
    "for file in files:\n",
    "    if \"cases_\" in file.name:\n",
    "        syn.get(file.id, downloadLocation=case_list_path)\n",
    "    elif \"data_gene_panel_\" in file.name:\n",
    "        syn.get(file.id, downloadLocation=gene_panels_path)\n",
    "    else:\n",
    "        syn.get(file.id, downloadLocation=data_path)"
   ]
  }
 ],
 "metadata": {
  "kernelspec": {
   "display_name": "Python 3 (ipykernel)",
   "language": "python",
   "name": "python3"
  },
  "language_info": {
   "codemirror_mode": {
    "name": "ipython",
    "version": 3
   },
   "file_extension": ".py",
   "mimetype": "text/x-python",
   "name": "python",
   "nbconvert_exporter": "python",
   "pygments_lexer": "ipython3",
   "version": "3.9.0"
  }
 },
 "nbformat": 4,
 "nbformat_minor": 5
}
