{
 "cells": [
  {
   "cell_type": "markdown",
   "id": "81ab7dde",
   "metadata": {},
   "source": [
    "* drugs names https://go.drugbank.com/releases/latest#open-data\n",
    "* https://pubchemdocs.ncbi.nlm.nih.gov/pug-rest"
   ]
  },
  {
   "cell_type": "code",
   "execution_count": 1,
   "id": "c94f6ab7",
   "metadata": {},
   "outputs": [],
   "source": [
    "# https://pubchem.ncbi.nlm.nih.gov/rest/pug/<input specification>/<operation specification>/[<output specification>][?<operation_options>]"
   ]
  },
  {
   "cell_type": "code",
   "execution_count": 1,
   "id": "12d739a9",
   "metadata": {},
   "outputs": [],
   "source": [
    "import pandas as pd\n",
    "import httplib2 as http\n",
    "import json\n",
    "\n",
    "try:\n",
    "    from urlparse import urlparse\n",
    "except ImportError:\n",
    "    from urllib.parse import urlparse"
   ]
  },
  {
   "cell_type": "code",
   "execution_count": null,
   "id": "4e30875d",
   "metadata": {},
   "outputs": [],
   "source": [
    "https://pubchem.ncbi.nlm.nih.gov/rest/pug/compound/fastsimilarity_3d/cid/11707110/cids/JSON"
   ]
  },
  {
   "cell_type": "code",
   "execution_count": null,
   "id": "b27cdcb9",
   "metadata": {},
   "outputs": [],
   "source": [
    "https://pubchem.ncbi.nlm.nih.gov/rest/pug/compound/fastsimilarity_3d/cid/1614701/cids/JSON"
   ]
  },
  {
   "cell_type": "code",
   "execution_count": null,
   "id": "e54b9957",
   "metadata": {},
   "outputs": [],
   "source": []
  },
  {
   "cell_type": "code",
   "execution_count": null,
   "id": "3192b4cf",
   "metadata": {},
   "outputs": [],
   "source": [
    "https://pubchem.ncbi.nlm.nih.gov/rest/pug/compound/similarity/cid/2244/XML"
   ]
  },
  {
   "cell_type": "code",
   "execution_count": 34,
   "id": "2f783ee9",
   "metadata": {},
   "outputs": [],
   "source": [
    "aid  =  10127622;\n",
    "\n",
    "pugrest     =  \"https://pubchem.ncbi.nlm.nih.gov/rest/pug\";\n",
    "\n",
    "input_path       =  f\"assay/aid/{aid}\";\n",
    "operation   =  \"cids\";\n",
    "output      =  \"JSON\";\n",
    "option      =  \"cids_type=active\";\n",
    "path     =  f\"/{input_path}/{operation}/{output}?{option}\";"
   ]
  },
  {
   "cell_type": "code",
   "execution_count": 35,
   "id": "69d5b708",
   "metadata": {},
   "outputs": [],
   "source": [
    "target = urlparse(pugrest+path)\n",
    "method = 'GET'\n",
    "body = ''\n",
    "headers = {\n",
    "'Accept': 'application/json',\n",
    "}\n",
    "\n",
    "h = http.Http()\n",
    "\n",
    "response, content = h.request(\n",
    "target.geturl(),\n",
    "method,\n",
    "body,\n",
    "headers)\n",
    "data = json.loads(content)"
   ]
  },
  {
   "cell_type": "code",
   "execution_count": 36,
   "id": "a4b4ab43",
   "metadata": {},
   "outputs": [
    {
     "data": {
      "text/plain": [
       "{'Fault': {'Code': 'PUGREST.NotFound',\n",
       "  'Message': 'No live AIDs in the supplied AID list'}}"
      ]
     },
     "execution_count": 36,
     "metadata": {},
     "output_type": "execute_result"
    }
   ],
   "source": [
    "data"
   ]
  },
  {
   "cell_type": "code",
   "execution_count": 9,
   "id": "3fb1c6d0",
   "metadata": {},
   "outputs": [],
   "source": [
    "specification = \"compound\"\n",
    "operation = \"fastsimilarity_3d\"\n",
    "cid = 10127622\n",
    "uri = 'https://pubchem.ncbi.nlm.nih.gov/rest/pug'\n",
    "path = f'/{specification}/{operation}/cid/{cid}/cids/JSON'\n",
    "\n",
    "target = urlparse(uri+path)\n",
    "method = 'GET'\n",
    "body = ''\n",
    "headers = {\n",
    "'Accept': 'application/json',\n",
    "}\n",
    "\n",
    "h = http.Http()\n",
    "\n",
    "response, content = h.request(\n",
    "target.geturl(),\n",
    "method,\n",
    "body,\n",
    "headers)\n",
    "data = json.loads(content)"
   ]
  },
  {
   "cell_type": "code",
   "execution_count": 10,
   "id": "14cc72e6",
   "metadata": {},
   "outputs": [
    {
     "data": {
      "text/plain": [
       "{'IdentifierList': {'CID': [10127622,\n",
       "   10288191,\n",
       "   9891312,\n",
       "   10238358,\n",
       "   10299858,\n",
       "   145968373,\n",
       "   147000322,\n",
       "   51711455,\n",
       "   11749905,\n",
       "   11291165,\n",
       "   9956637,\n",
       "   10162188,\n",
       "   66885552,\n",
       "   21114161,\n",
       "   90146800,\n",
       "   9824802,\n",
       "   11165133,\n",
       "   10135899,\n",
       "   9803891,\n",
       "   6918454,\n",
       "   11818480,\n",
       "   11395411,\n",
       "   155804660,\n",
       "   22635332,\n",
       "   9868895,\n",
       "   9803263,\n",
       "   10164042,\n",
       "   9822294,\n",
       "   9953168,\n",
       "   9864956,\n",
       "   9804179,\n",
       "   44428116,\n",
       "   117955872,\n",
       "   122201254,\n",
       "   141401969,\n",
       "   11234394,\n",
       "   140561720]}}"
      ]
     },
     "execution_count": 10,
     "metadata": {},
     "output_type": "execute_result"
    }
   ],
   "source": [
    "data"
   ]
  },
  {
   "cell_type": "code",
   "execution_count": 21,
   "id": "55ef2ecd",
   "metadata": {},
   "outputs": [
    {
     "data": {
      "text/plain": [
       "b'{\\n  \"Fault\": {\\n    \"Code\": \"PUGREST.BadRequest\",\\n    \"Message\": \"Unrecognized identifier namespace\"\\n  }\\n}\\n'"
      ]
     },
     "execution_count": 21,
     "metadata": {},
     "output_type": "execute_result"
    }
   ],
   "source": [
    "content"
   ]
  },
  {
   "cell_type": "code",
   "execution_count": null,
   "id": "70e976ff",
   "metadata": {},
   "outputs": [],
   "source": [
    "https://pubchem.ncbi.nlm.nih.gov/rest/pug/compound/name/trametinib/"
   ]
  },
  {
   "cell_type": "code",
   "execution_count": null,
   "id": "af626115",
   "metadata": {},
   "outputs": [],
   "source": [
    "https://pubchem.ncbi.nlm.nih.gov/rest/pug/compound/fastsimilarity_3d/cid/11707110/cids/JSON"
   ]
  },
  {
   "cell_type": "code",
   "execution_count": null,
   "id": "d548b3f0",
   "metadata": {},
   "outputs": [],
   "source": [
    "0\t11707110\n",
    "1\t118796491\n",
    "2\t11527186\n",
    "3\t59717278"
   ]
  },
  {
   "cell_type": "code",
   "execution_count": null,
   "id": "2313fb92",
   "metadata": {},
   "outputs": [],
   "source": [
    "https://pubchem.ncbi.nlm.nih.gov/rest/pug/compound/cid/11707110/"
   ]
  },
  {
   "cell_type": "code",
   "execution_count": null,
   "id": "bc17b9a9",
   "metadata": {},
   "outputs": [],
   "source": [
    "https://pubchem.ncbi.nlm.nih.gov/rest/pug/compound/name/trametinib/fastsimilarity_2d/"
   ]
  },
  {
   "cell_type": "code",
   "execution_count": null,
   "id": "5233f572",
   "metadata": {},
   "outputs": [],
   "source": [
    "https://pubchem.ncbi.nlm.nih.gov/rest/pug/compound/fastsimilarity_2d/cid/2244/property/MolecularWeight,MolecularFormula,RotatableBondCount/XML?Threshold=99\n",
    "\n",
    "https://pubchem.ncbi.nlm.nih.gov/rest/pug/compound/fastsimilarity_3d/cid/2244/cids/JSON"
   ]
  },
  {
   "cell_type": "code",
   "execution_count": null,
   "id": "9ddf759c",
   "metadata": {},
   "outputs": [],
   "source": []
  }
 ],
 "metadata": {
  "kernelspec": {
   "display_name": "Python 3 (ipykernel)",
   "language": "python",
   "name": "python3"
  },
  "language_info": {
   "codemirror_mode": {
    "name": "ipython",
    "version": 3
   },
   "file_extension": ".py",
   "mimetype": "text/x-python",
   "name": "python",
   "nbconvert_exporter": "python",
   "pygments_lexer": "ipython3",
   "version": "3.9.0"
  }
 },
 "nbformat": 4,
 "nbformat_minor": 5
}
